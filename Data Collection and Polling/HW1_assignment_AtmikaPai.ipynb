{
 "cells": [
  {
   "cell_type": "markdown",
   "metadata": {},
   "source": [
    "# ORIE 5355/INFO 5370 HW 1: Survey Weighting"
   ]
  },
  {
   "cell_type": "markdown",
   "metadata": {},
   "source": [
    " - Name: Atmika Pai\n",
    " - Net-id: aap253\n",
    " - Date: 9/17/2024\n",
    " - Late days used for this assignment: 0\n",
    " - Total late days used (counting this assignment): 0\n",
    " - People with whom you discussed this assignment: "
   ]
  },
  {
   "cell_type": "markdown",
   "metadata": {
    "ExecuteTime": {
     "end_time": "2021-09-01T19:23:05.646804Z",
     "start_time": "2021-09-01T19:23:05.610804Z"
    }
   },
   "source": [
    "After you finish the homework, please complete the following (short, anonymous) post-homework survey: https://forms.gle/AM1x5qEnLCvxsgrJ7"
   ]
  },
  {
   "cell_type": "markdown",
   "metadata": {},
   "source": [
    "\n",
    "We have marked questions in <font color='green'> green </font>. Please put answers in the default color. You'll want to write text answers in \"markdown\" mode instead of code. In Jupyter notebook, you can go to Cell > Cell Type > Markdown, from the menu. Please carefully read the late days policy and grading procedure [here](https://orie5355.github.io/Fall_2023/assignments/). In that link, we also give some tips on exporting your notebook to PDF, which is required for GradeScope submission. \n",
    "\n",
    "A few notes about this homework:\n",
    "1. This homework is purposefully heavy in using the Pandas package. Being able to explore data is an essential data science skill that you'll use throughout this class and your career -- even if the polling/politics application is not interesting to you. I encourage you to practice Pandas and learn how to use it well. Your code will NOT be graded on efficiency.\n",
    "2. Some of the questions can be interpreted in multiple ways. That is always true in data science. You'll need to make judgment calls for what analysis to do. For the homework, you'll still receive full points for any \"reasonable\" choice. Also feel free to ask questions on EdStem. \n",
    "\n",
    "Note: We sometimes provide sample images of what your output should look like. These are for clarification of what we are looking for. The numbers in the images are not necessarily correct, and your output does not need to look exactly like the images."
   ]
  },
  {
   "cell_type": "markdown",
   "metadata": {},
   "source": [
    "# Conceptual component"
   ]
  },
  {
   "cell_type": "markdown",
   "metadata": {},
   "source": [
    "### 1) Reading"
   ]
  },
  {
   "cell_type": "markdown",
   "metadata": {},
   "source": [
    "<font color='green'> Please read Sections 3 and 4 (pages 6-13) here: https://www.nber.org/system/files/working_papers/w20830/w20830.pdf, and answer the following questions."
   ]
  },
  {
   "cell_type": "markdown",
   "metadata": {},
   "source": [
    "<font color='green'> Please summarize the sections in no more than two sentences. "
   ]
  },
  {
   "cell_type": "markdown",
   "metadata": {},
   "source": [
    "*Section 3 critiques eBay's reputation system, noting that potential buyers may struggle to interpret the numbers, as feedback is skewed, with the median seller having a 100% positive score, and this does not accurately reflect seller quality since many bad experiences go unreported. The authors introduce the \"effective percent positive\" (EPP) score, the the ratio of positive feedback to total transactions.*\n",
    "\n",
    "*Section 4 discusses the dataset: a 10% random sample of new eBay users from 2011 who made a purchase within 30 days was tracked until May 31, 2014, resulting in over 15 million transactions. Next, the authors construct EPP scores at each separate transaction and  note the imbalance between one-time and frequent buyers.*"
   ]
  },
  {
   "cell_type": "markdown",
   "metadata": {},
   "source": [
    "<font color='green'> Do you think it's a problem that most ratings are positive? If so, why? Answer in no more than four sentences. Please incorporate concepts discussed in class in your answer. "
   ]
  },
  {
   "cell_type": "markdown",
   "metadata": {},
   "source": [
    "*Yes, it can be problematic if most ratings are positive, as this skews the perception of seller quality. Professor Nikhil attributes this positive skew, or inflation of scores, to a type of measurement error, where the \"quality\" scale does not align well with the \"rating\" scale. This causes information asymmetry, as buyers struggle to differentiate between high and low-quality eBay sellers. The positive skew can also make our sample unrepresentative, leading to differential non-response.*"
   ]
  },
  {
   "cell_type": "markdown",
   "metadata": {},
   "source": [
    "### 2) Personal reflection"
   ]
  },
  {
   "cell_type": "markdown",
   "metadata": {},
   "source": [
    "<font color='green'> Think back to a time that you trained a model on data from people or gathered opinions via a survey (an informal one is fine). If you have not done that before, you may answer these questions about an article in the news that reported on public opinions or a model that you think might be in deployment at a company or organization with which you interact (for example, Amazon, google maps, etc)"
   ]
  },
  {
   "cell_type": "markdown",
   "metadata": {},
   "source": [
    "<font color='green'> Briefly summarize the scenario in no more than two sentences. "
   ]
  },
  {
   "cell_type": "markdown",
   "metadata": {},
   "source": [
    "*I often rely on restaurant scores and reviews on Google Maps to decide where to eat, especially when scouting for new places. I base my decision on the number of stars a restaurant has out of 5, the number of people who reviewed it, and by reading the first 2-3 reviews.* "
   ]
  },
  {
   "cell_type": "markdown",
   "metadata": {},
   "source": [
    "<font color='green'> What was the construct that you cared about/wanted to measure? What was the measurement (numerical data)? In what ways did the measurement not match the construct you cared about? Answer in no more than 4 sentences.  "
   ]
  },
  {
   "cell_type": "markdown",
   "metadata": {},
   "source": [
    "*The construct I want to measure is the quality of the restaurant in terms of food and ambiance and whether I should visit it. Google Maps has people give a rating out of 5, which is the measurement (numerical data), and it can be supplemented with a text review of the restaurant.*\n",
    "\n",
    "*In class, we discussed how ratings are hard to interpret qualitatively - while 1/5 stars signals a terrible experience and 5/5 a great one, it is unclear what 4 stars represent.*"
   ]
  },
  {
   "cell_type": "markdown",
   "metadata": {},
   "source": [
    "<font color='green'> What selection biases/differential non-response issues occurred and how did it affect your measurement? (If your answer is \"None,\" explain exactly why you believe the assumptions discussed in class were met). Answer in no more than 3 sentences. "
   ]
  },
  {
   "cell_type": "markdown",
   "metadata": {},
   "source": [
    "*There may be selection bias as those with extreme positive or negative experiences are more likely to leave reviews, skewing the overall rating.*\n",
    "\n",
    "*Frequent reviewers may also have different expectations or standards, meaning their feedback might not accurately reflect the general population.* \n",
    "\n",
    "*An implicit pressure to avoid leaving bad reviews could result in underreporting of negative experiences, further distorting the measurement.*"
   ]
  },
  {
   "cell_type": "markdown",
   "metadata": {},
   "source": [
    "<font color='green'> Given what we have learned in class so far, what would you do differently if faced with the same scenario again? Answer in no more than 3 sentences. "
   ]
  },
  {
   "cell_type": "markdown",
   "metadata": {},
   "source": [
    "*Professor Garg's thesis indicates using \"relative\" ratings instead of \"absolutes\", so replacing the 5-star system with rating options like \"terrible\", \"mediocre\", \"good\" can give more interpretable results.*\n",
    "\n",
    "*Restaurants can give incentives to people to leave a review on Google Maps to mitigate differential non-response. As a result, the sample will be a better representation of the population average.*\n",
    "\n",
    "*Google could try to weigh google ratings by demographic information of reviewers, but this seems like a hefty undertaking and in the gray area of data use practices.*"
   ]
  },
  {
   "cell_type": "markdown",
   "metadata": {},
   "source": [
    "# Programming component"
   ]
  },
  {
   "cell_type": "markdown",
   "metadata": {},
   "source": [
    "<font color='green'> In this part of the homework, we provide you with data from a poll in Florida before the 2016 Presidential election in the United States. We also provide you with (one pollster's) estimates of who will vote in the 2016 election, made before the election. You will use this data and apply the weighting techniques covered in class."
   ]
  },
  {
   "cell_type": "markdown",
   "metadata": {},
   "source": [
    "## Preliminaries to load packages and data"
   ]
  },
  {
   "cell_type": "code",
   "execution_count": 1,
   "metadata": {
    "ExecuteTime": {
     "end_time": "2021-09-01T20:57:32.311779Z",
     "start_time": "2021-09-01T20:57:32.270775Z"
    }
   },
   "outputs": [
    {
     "name": "stderr",
     "output_type": "stream",
     "text": [
      "/Users/atmikapai/anaconda3/lib/python3.11/site-packages/pandas/core/arrays/masked.py:60: UserWarning: Pandas requires version '1.3.6' or newer of 'bottleneck' (version '1.3.5' currently installed).\n",
      "  from pandas.core import (\n"
     ]
    }
   ],
   "source": [
    "import pandas as pd\n",
    "import numpy as np\n",
    "pd.set_option('display.max_columns', None)\n",
    "pd.set_option('display.max_rows', None)"
   ]
  },
  {
   "cell_type": "code",
   "execution_count": 2,
   "metadata": {
    "ExecuteTime": {
     "end_time": "2021-09-01T20:57:32.581776Z",
     "start_time": "2021-09-01T20:57:32.454782Z"
    }
   },
   "outputs": [
    {
     "data": {
      "text/html": [
       "<div>\n",
       "<style scoped>\n",
       "    .dataframe tbody tr th:only-of-type {\n",
       "        vertical-align: middle;\n",
       "    }\n",
       "\n",
       "    .dataframe tbody tr th {\n",
       "        vertical-align: top;\n",
       "    }\n",
       "\n",
       "    .dataframe thead th {\n",
       "        text-align: right;\n",
       "    }\n",
       "</style>\n",
       "<table border=\"1\" class=\"dataframe\">\n",
       "  <thead>\n",
       "    <tr style=\"text-align: right;\">\n",
       "      <th></th>\n",
       "      <th>candidate</th>\n",
       "      <th>age</th>\n",
       "      <th>gender</th>\n",
       "      <th>party</th>\n",
       "      <th>race</th>\n",
       "      <th>education</th>\n",
       "    </tr>\n",
       "  </thead>\n",
       "  <tbody>\n",
       "    <tr>\n",
       "      <th>0</th>\n",
       "      <td>Someone else</td>\n",
       "      <td>30-44</td>\n",
       "      <td>Male</td>\n",
       "      <td>Independent</td>\n",
       "      <td>White</td>\n",
       "      <td>College</td>\n",
       "    </tr>\n",
       "    <tr>\n",
       "      <th>1</th>\n",
       "      <td>Hillary Clinton</td>\n",
       "      <td>45-64</td>\n",
       "      <td>Male</td>\n",
       "      <td>Republican</td>\n",
       "      <td>Hispanic</td>\n",
       "      <td>College</td>\n",
       "    </tr>\n",
       "    <tr>\n",
       "      <th>2</th>\n",
       "      <td>Hillary Clinton</td>\n",
       "      <td>30-44</td>\n",
       "      <td>Male</td>\n",
       "      <td>Independent</td>\n",
       "      <td>Hispanic</td>\n",
       "      <td>College</td>\n",
       "    </tr>\n",
       "    <tr>\n",
       "      <th>3</th>\n",
       "      <td>Hillary Clinton</td>\n",
       "      <td>65+</td>\n",
       "      <td>Female</td>\n",
       "      <td>Democrat</td>\n",
       "      <td>White</td>\n",
       "      <td>College</td>\n",
       "    </tr>\n",
       "    <tr>\n",
       "      <th>4</th>\n",
       "      <td>Donald Trump</td>\n",
       "      <td>65+</td>\n",
       "      <td>Female</td>\n",
       "      <td>Republican</td>\n",
       "      <td>White</td>\n",
       "      <td>High School</td>\n",
       "    </tr>\n",
       "  </tbody>\n",
       "</table>\n",
       "</div>"
      ],
      "text/plain": [
       "         candidate    age  gender        party      race    education\n",
       "0     Someone else  30-44    Male  Independent     White      College\n",
       "1  Hillary Clinton  45-64    Male   Republican  Hispanic      College\n",
       "2  Hillary Clinton  30-44    Male  Independent  Hispanic      College\n",
       "3  Hillary Clinton    65+  Female     Democrat     White      College\n",
       "4     Donald Trump    65+  Female   Republican     White  High School"
      ]
     },
     "execution_count": 2,
     "metadata": {},
     "output_type": "execute_result"
    }
   ],
   "source": [
    "dfpoll = pd.read_csv('polling_data_hw1.csv') # raw polling data\n",
    "dfpoll.head()"
   ]
  },
  {
   "cell_type": "code",
   "execution_count": 3,
   "metadata": {
    "ExecuteTime": {
     "end_time": "2021-09-01T20:57:32.658773Z",
     "start_time": "2021-09-01T20:57:32.605777Z"
    }
   },
   "outputs": [
    {
     "data": {
      "text/html": [
       "<div>\n",
       "<style scoped>\n",
       "    .dataframe tbody tr th:only-of-type {\n",
       "        vertical-align: middle;\n",
       "    }\n",
       "\n",
       "    .dataframe tbody tr th {\n",
       "        vertical-align: top;\n",
       "    }\n",
       "\n",
       "    .dataframe thead th {\n",
       "        text-align: right;\n",
       "    }\n",
       "</style>\n",
       "<table border=\"1\" class=\"dataframe\">\n",
       "  <thead>\n",
       "    <tr style=\"text-align: right;\">\n",
       "      <th></th>\n",
       "      <th>Electoral_Proportion</th>\n",
       "      <th>Demographic_Type_1</th>\n",
       "      <th>Demographic_Type_2</th>\n",
       "      <th>Demographic_1</th>\n",
       "      <th>Demographic_2</th>\n",
       "    </tr>\n",
       "  </thead>\n",
       "  <tbody>\n",
       "    <tr>\n",
       "      <th>0</th>\n",
       "      <td>0.388</td>\n",
       "      <td>party</td>\n",
       "      <td>NaN</td>\n",
       "      <td>Democrat</td>\n",
       "      <td>NaN</td>\n",
       "    </tr>\n",
       "    <tr>\n",
       "      <th>1</th>\n",
       "      <td>0.399</td>\n",
       "      <td>party</td>\n",
       "      <td>NaN</td>\n",
       "      <td>Republican</td>\n",
       "      <td>NaN</td>\n",
       "    </tr>\n",
       "    <tr>\n",
       "      <th>2</th>\n",
       "      <td>0.213</td>\n",
       "      <td>party</td>\n",
       "      <td>NaN</td>\n",
       "      <td>Independent</td>\n",
       "      <td>NaN</td>\n",
       "    </tr>\n",
       "    <tr>\n",
       "      <th>3</th>\n",
       "      <td>0.446</td>\n",
       "      <td>gender</td>\n",
       "      <td>NaN</td>\n",
       "      <td>Male</td>\n",
       "      <td>NaN</td>\n",
       "    </tr>\n",
       "    <tr>\n",
       "      <th>4</th>\n",
       "      <td>0.554</td>\n",
       "      <td>gender</td>\n",
       "      <td>NaN</td>\n",
       "      <td>Female</td>\n",
       "      <td>NaN</td>\n",
       "    </tr>\n",
       "  </tbody>\n",
       "</table>\n",
       "</div>"
      ],
      "text/plain": [
       "   Electoral_Proportion Demographic_Type_1 Demographic_Type_2 Demographic_1  \\\n",
       "0                 0.388              party                NaN      Democrat   \n",
       "1                 0.399              party                NaN    Republican   \n",
       "2                 0.213              party                NaN   Independent   \n",
       "3                 0.446             gender                NaN          Male   \n",
       "4                 0.554             gender                NaN        Female   \n",
       "\n",
       "  Demographic_2  \n",
       "0           NaN  \n",
       "1           NaN  \n",
       "2           NaN  \n",
       "3           NaN  \n",
       "4           NaN  "
      ]
     },
     "execution_count": 3,
     "metadata": {},
     "output_type": "execute_result"
    }
   ],
   "source": [
    "dfdemographic = pd.read_csv('florida_proportions_hw1.csv') # proportions of population\n",
    "dfdemographic.head()"
   ]
  },
  {
   "cell_type": "code",
   "execution_count": 4,
   "metadata": {},
   "outputs": [
    {
     "data": {
      "text/html": [
       "<div>\n",
       "<style scoped>\n",
       "    .dataframe tbody tr th:only-of-type {\n",
       "        vertical-align: middle;\n",
       "    }\n",
       "\n",
       "    .dataframe tbody tr th {\n",
       "        vertical-align: top;\n",
       "    }\n",
       "\n",
       "    .dataframe thead th {\n",
       "        text-align: right;\n",
       "    }\n",
       "</style>\n",
       "<table border=\"1\" class=\"dataframe\">\n",
       "  <thead>\n",
       "    <tr style=\"text-align: right;\">\n",
       "      <th></th>\n",
       "      <th>Electoral_Proportion</th>\n",
       "      <th>Demographic_Type_1</th>\n",
       "      <th>Demographic_Type_2</th>\n",
       "      <th>Demographic_1</th>\n",
       "      <th>Demographic_2</th>\n",
       "    </tr>\n",
       "  </thead>\n",
       "  <tbody>\n",
       "    <tr>\n",
       "      <th>112</th>\n",
       "      <td>0.034</td>\n",
       "      <td>race</td>\n",
       "      <td>education</td>\n",
       "      <td>Hispanic</td>\n",
       "      <td>Some College</td>\n",
       "    </tr>\n",
       "    <tr>\n",
       "      <th>113</th>\n",
       "      <td>0.028</td>\n",
       "      <td>race</td>\n",
       "      <td>education</td>\n",
       "      <td>Hispanic</td>\n",
       "      <td>College</td>\n",
       "    </tr>\n",
       "    <tr>\n",
       "      <th>114</th>\n",
       "      <td>0.011</td>\n",
       "      <td>race</td>\n",
       "      <td>education</td>\n",
       "      <td>Other</td>\n",
       "      <td>High School</td>\n",
       "    </tr>\n",
       "    <tr>\n",
       "      <th>115</th>\n",
       "      <td>0.011</td>\n",
       "      <td>race</td>\n",
       "      <td>education</td>\n",
       "      <td>Other</td>\n",
       "      <td>Some College</td>\n",
       "    </tr>\n",
       "    <tr>\n",
       "      <th>116</th>\n",
       "      <td>0.015</td>\n",
       "      <td>race</td>\n",
       "      <td>education</td>\n",
       "      <td>Other</td>\n",
       "      <td>College</td>\n",
       "    </tr>\n",
       "  </tbody>\n",
       "</table>\n",
       "</div>"
      ],
      "text/plain": [
       "     Electoral_Proportion Demographic_Type_1 Demographic_Type_2 Demographic_1  \\\n",
       "112                 0.034               race          education      Hispanic   \n",
       "113                 0.028               race          education      Hispanic   \n",
       "114                 0.011               race          education         Other   \n",
       "115                 0.011               race          education         Other   \n",
       "116                 0.015               race          education         Other   \n",
       "\n",
       "    Demographic_2  \n",
       "112  Some College  \n",
       "113       College  \n",
       "114   High School  \n",
       "115  Some College  \n",
       "116       College  "
      ]
     },
     "execution_count": 4,
     "metadata": {},
     "output_type": "execute_result"
    }
   ],
   "source": [
    "dfdemographic.tail()"
   ]
  },
  {
   "cell_type": "markdown",
   "metadata": {},
   "source": [
    "`dfdemographic` contains estimates of likely voters in Florida in 2016. When `Demographic_Type_2` is `NaN`, the row refers to just the marginal population percentage of the group in `Demographic_1` of type `Demographic_Type_1`. When it is not `NaN`, the row has the joint distribution of the corresponding demographic groups.\n",
    "\n",
    "For example, row 0 means that 38.8% of the electorate is from the Democrat party. Row 113 means that 2.8% of the electorate is Hispanic AND graduated college. "
   ]
  },
  {
   "cell_type": "markdown",
   "metadata": {},
   "source": [
    "## Part A: Raw visualization"
   ]
  },
  {
   "cell_type": "markdown",
   "metadata": {},
   "source": [
    "<font color='green'> Here, we'll visualize whether the respondents in the poll match the likely voter estimates. Create a scatter-plot where each point represents one Demographic group (for example, people who identify as Independent: party-Independent), where the X axis is the `Electoral_Proportion` in `dfdemographic`, and the Y axis is the proportion in `dfpoll` (Hint: you will need to calculate this yourself). "
   ]
  },
  {
   "cell_type": "code",
   "execution_count": 5,
   "metadata": {
    "scrolled": false
   },
   "outputs": [
    {
     "data": {
      "image/png": "[encoded data removed]",
      "text/plain": [
       "<Figure size 1000x600 with 1 Axes>"
      ]
     },
     "metadata": {},
     "output_type": "display_data"
    }
   ],
   "source": [
    "demographic_columns = ['party', 'gender', 'race', 'education', 'age']\n",
    "\n",
    "all_demographics = []\n",
    "\n",
    "for column in demographic_columns:\n",
    "    counts = dfpoll[column].value_counts(normalize=True).reset_index()\n",
    "    counts.columns = ['Demographic', 'Poll_Proportion']\n",
    "    counts['Demographic_Type'] = column\n",
    "    counts['Demographic'] = counts['Demographic'].astype(str)\n",
    "    all_demographics.append(counts)\n",
    "    \n",
    "\n",
    "dfpoll_proportions = pd.concat(all_demographics, ignore_index=True)\n",
    "dfpoll_proportions = dfpoll_proportions[['Poll_Proportion', 'Demographic_Type', 'Demographic']]\n",
    "\n",
    "# Merge with dfdemographic\n",
    "merged_df = pd.merge(\n",
    "    dfdemographic[dfdemographic['Demographic_Type_2'].isna()], \n",
    "    dfpoll_proportions, \n",
    "    left_on=['Demographic_Type_1', 'Demographic_1'], \n",
    "    right_on=['Demographic_Type', 'Demographic'], \n",
    "    how='left'\n",
    ")\n",
    "\n",
    "import matplotlib.pyplot as plt \n",
    "\n",
    "plt.figure(figsize=(10, 6))\n",
    "plt.scatter(merged_df['Electoral_Proportion'], merged_df['Poll_Proportion'])\n",
    "\n",
    "plt.xlabel('Electoral Proportion')\n",
    "plt.ylabel('Poll Proportion')\n",
    "plt.title('Electoral Proportion vs Poll Proportion by Demographic Group')\n",
    "\n",
    "\n",
    "max_value = max(merged_df['Electoral_Proportion'].max(), merged_df['Poll_Proportion'].max())\n",
    "plt.plot([0, max_value], [0, max_value], 'r--')\n",
    "\n",
    "for i, row in merged_df.iterrows():\n",
    "    plt.annotate(row['Demographic_1'], (row['Electoral_Proportion'], row['Poll_Proportion']))\n",
    "\n",
    "plt.tight_layout()\n",
    "plt.show()"
   ]
  },
  {
   "cell_type": "code",
   "execution_count": 19,
   "metadata": {},
   "outputs": [
    {
     "data": {
      "image/png": "[encoded data removed]",
      "text/plain": [
       "<Figure size 1000x600 with 1 Axes>"
      ]
     },
     "metadata": {},
     "output_type": "display_data"
    }
   ],
   "source": [
    "from itertools import combinations\n",
    "\n",
    "import pandas as pd\n",
    "import numpy as np\n",
    "from itertools import combinations\n",
    "\n",
    "all_demographics_pairs = []\n",
    "\n",
    "for pair in combinations(demographic_columns, 2):\n",
    "    counts = dfpoll.groupby(list(pair)).size().reset_index(name='Counts')\n",
    "    counts['Poll_Proportion'] = counts['Counts'] / counts['Counts'].sum()\n",
    "    \n",
    "    counts['Demographic_Type_1'] = pair[0]\n",
    "    counts['Demographic_Type_2'] = pair[1]\n",
    "    counts['Demographic_1'] = counts[pair[0]].astype(str)\n",
    "    counts['Demographic_2'] = counts[pair[1]].astype(str)\n",
    "    \n",
    "    counts['Type'] = 'Combination'\n",
    "    \n",
    "    all_demographics_pairs.append(counts[['Poll_Proportion', 'Demographic_Type_1', 'Demographic_1', 'Demographic_Type_2', 'Demographic_2', 'Type']])\n",
    "\n",
    "for column in demographic_columns:\n",
    "    \n",
    "    counts_single = dfpoll[column].value_counts(normalize=True).reset_index()\n",
    "    counts_single.columns = ['Demographic_1', 'Poll_Proportion']\n",
    "    counts_single['Demographic_Type_1'] = column\n",
    "    counts_single['Demographic_Type_2'] = np.nan  \n",
    "    counts_single['Demographic_2'] = np.nan \n",
    "\n",
    "    counts_single['Type'] = 'Single'\n",
    "    \n",
    "    all_demographics_pairs.append(counts_single[['Poll_Proportion', 'Demographic_Type_1', 'Demographic_1', 'Demographic_Type_2', 'Demographic_2', 'Type']])\n",
    "\n",
    "dfpoll_proportions_pairs = pd.concat(all_demographics_pairs, ignore_index=True)\n",
    "\n",
    "dfpoll_proportions_pairs = dfpoll_proportions_pairs.drop_duplicates()\n",
    "\n",
    "\n",
    "merged_df = pd.merge(\n",
    "    dfdemographic, \n",
    "    dfpoll_proportions_pairs, \n",
    "    left_on=['Demographic_Type_1', 'Demographic_Type_2', 'Demographic_1', 'Demographic_2' ], \n",
    "    right_on=['Demographic_Type_1', 'Demographic_Type_2', 'Demographic_1', 'Demographic_2' ], \n",
    "    how='left'\n",
    ")\n",
    "\n",
    "plt.figure(figsize=(10, 6))\n",
    "plt.scatter(merged_df['Electoral_Proportion'], merged_df['Poll_Proportion'])\n",
    "\n",
    "plt.xlabel('Electoral Proportion')\n",
    "plt.ylabel('Poll Proportion')\n",
    "plt.title('Electoral Proportion vs Poll Proportion by Demographic Pairs')\n",
    "\n",
    "\n",
    "max_value = max(merged_df['Electoral_Proportion'].max(), merged_df['Poll_Proportion'].max())\n",
    "plt.plot([0, max_value], [0, max_value], 'r--')\n",
    "\n",
    "\n",
    "\n",
    "plt.tight_layout()\n",
    "plt.show()\n",
    "\n"
   ]
  },
  {
   "cell_type": "markdown",
   "metadata": {},
   "source": [
    "<font color='green'> `dfdemographic` tells us the true proportion of each demographic group in the entire population, the calculated proportion from dfpoll tells us the proportion of each demographic group represented in the poll. For a poll to be representative of the population, ideally we would want the latter to be the same as the former. However, this is hard to achieve in practice.\n",
    "\n",
    "\n",
    "In your view, which group is most over-represented? Most under-represented? Why? Answer in no more than 3 sentences. There are multiple reasonable definitions of \"over\" or \"under\" represented; any choice is fine as long as you justify your answer.</font>"
   ]
  },
  {
   "cell_type": "code",
   "execution_count": 7,
   "metadata": {
    "scrolled": true
   },
   "outputs": [
    {
     "data": {
      "text/html": [
       "<div>\n",
       "<style scoped>\n",
       "    .dataframe tbody tr th:only-of-type {\n",
       "        vertical-align: middle;\n",
       "    }\n",
       "\n",
       "    .dataframe tbody tr th {\n",
       "        vertical-align: top;\n",
       "    }\n",
       "\n",
       "    .dataframe thead th {\n",
       "        text-align: right;\n",
       "    }\n",
       "</style>\n",
       "<table border=\"1\" class=\"dataframe\">\n",
       "  <thead>\n",
       "    <tr style=\"text-align: right;\">\n",
       "      <th></th>\n",
       "      <th>Electoral_Proportion</th>\n",
       "      <th>Demographic_Type_1</th>\n",
       "      <th>Demographic_Type_2</th>\n",
       "      <th>Demographic_1</th>\n",
       "      <th>Demographic_2</th>\n",
       "      <th>Poll_Proportion</th>\n",
       "      <th>Type</th>\n",
       "      <th>Difference</th>\n",
       "    </tr>\n",
       "  </thead>\n",
       "  <tbody>\n",
       "    <tr>\n",
       "      <th>2</th>\n",
       "      <td>0.213</td>\n",
       "      <td>party</td>\n",
       "      <td>NaN</td>\n",
       "      <td>Independent</td>\n",
       "      <td>NaN</td>\n",
       "      <td>0.348328</td>\n",
       "      <td>Single</td>\n",
       "      <td>-0.135328</td>\n",
       "    </tr>\n",
       "    <tr>\n",
       "      <th>13</th>\n",
       "      <td>0.374</td>\n",
       "      <td>education</td>\n",
       "      <td>NaN</td>\n",
       "      <td>High School</td>\n",
       "      <td>NaN</td>\n",
       "      <td>0.197232</td>\n",
       "      <td>Single</td>\n",
       "      <td>0.176768</td>\n",
       "    </tr>\n",
       "  </tbody>\n",
       "</table>\n",
       "</div>"
      ],
      "text/plain": [
       "    Electoral_Proportion Demographic_Type_1 Demographic_Type_2 Demographic_1  \\\n",
       "2                  0.213              party                NaN   Independent   \n",
       "13                 0.374          education                NaN   High School   \n",
       "\n",
       "   Demographic_2  Poll_Proportion    Type  Difference  \n",
       "2            NaN         0.348328  Single   -0.135328  \n",
       "13           NaN         0.197232  Single    0.176768  "
      ]
     },
     "execution_count": 7,
     "metadata": {},
     "output_type": "execute_result"
    }
   ],
   "source": [
    "merged_df['Difference'] = merged_df.Electoral_Proportion - merged_df.Poll_Proportion\n",
    "merged_df[(merged_df.Difference == merged_df.Difference.max()) \n",
    "          | (merged_df.Difference == merged_df.Difference.min())]"
   ]
  },
  {
   "cell_type": "markdown",
   "metadata": {},
   "source": [
    "*I created a 'Difference' column that calculates the difference between population proportions and polling data proportions.*\n",
    "\n",
    "*People with a high school education are underrepresented in the poll (37.4% in the population vs. 19.7% in the poll). Conversely, Independent party supporters are overrepresented (21.3% in the population vs. 34.8% in the poll).*"
   ]
  },
  {
   "cell_type": "markdown",
   "metadata": {},
   "source": [
    "## Part B: Weighting"
   ]
  },
  {
   "cell_type": "markdown",
   "metadata": {},
   "source": [
    "<font color='green'> For this question, we'll ignore people who answered anything but \"Hillary Clinton\" or \"Donald Trump.\"\n",
    "\n",
    "\n",
    "You'll notice that some of the groups in the polling data (\"refused\") do not show up in the population percentages. For the questions that require weighting by demographics, ignore those respondents.\n",
    "\n"
   ]
  },
  {
   "cell_type": "markdown",
   "metadata": {},
   "source": [
    "### 1) Raw average"
   ]
  },
  {
   "cell_type": "markdown",
   "metadata": {},
   "source": [
    "<font color='green'> Below, report the \"raw polling average,\" the percentage of people \"Hillary Clinton\" divided by the number who answered either Hillary or Trump."
   ]
  },
  {
   "cell_type": "code",
   "execution_count": 8,
   "metadata": {},
   "outputs": [
    {
     "name": "stdout",
     "output_type": "stream",
     "text": [
      "candidate\n",
      "Hillary Clinton    393\n",
      "Donald Trump       327\n",
      "Do not know         78\n",
      "Will not vote       39\n",
      "Someone else        30\n",
      "Name: count, dtype: int64\n",
      "Hillary win: 54.58\n"
     ]
    }
   ],
   "source": [
    "counts = dfpoll['candidate'].value_counts()\n",
    "print(counts)\n",
    "hillary_win = counts['Hillary Clinton']/(counts['Hillary Clinton']+counts['Donald Trump']);\n",
    "print(\"Hillary win:\", round(hillary_win*100, 2))"
   ]
  },
  {
   "cell_type": "code",
   "execution_count": 9,
   "metadata": {},
   "outputs": [],
   "source": [
    "#For question part C-2\n",
    "clinton_estimates = []\n",
    "clinton_estimates.append(hillary_win)"
   ]
  },
  {
   "cell_type": "markdown",
   "metadata": {},
   "source": [
    "### 2) Single dimensional marginal weighting (on just 1 demographic type)"
   ]
  },
  {
   "cell_type": "markdown",
   "metadata": {},
   "source": [
    "<font color='green'> For each demographic type separately -- age, gender, party, race, and education -- weight the poll by just that demographic type, in accordance to the population proportions given. Report the resulting poll results, and briefly (at most 3 sentences) describe what you observe.\n",
    "\n",
    "\n",
    "For example, when weighted by race, you'll report:\n",
    "\n",
    "Weighted by race --- Clinton: 0.531, Trump: 0.469\n",
    "\n",
    "(your results might be different due to rounding/precision, but we do not expect the difference to be large)\n"
   ]
  },
  {
   "cell_type": "code",
   "execution_count": 10,
   "metadata": {
    "scrolled": true
   },
   "outputs": [
    {
     "name": "stdout",
     "output_type": "stream",
     "text": [
      "Unweighted results --- Clinton: 0.546, Trump: 0.454\n",
      "Weighted by party --- Clinton: 0.499, Trump: 0.501\n",
      "Weighted by gender --- Clinton: 0.550, Trump: 0.450\n",
      "Weighted by race --- Clinton: 0.531, Trump: 0.469\n",
      "Weighted by education --- Clinton: 0.544, Trump: 0.456\n",
      "Weighted by age --- Clinton: 0.531, Trump: 0.469\n"
     ]
    }
   ],
   "source": [
    "demographic_types = ['party', 'gender', 'race', 'education', 'age']\n",
    "dfpoll_trump_clinton = dfpoll[dfpoll.candidate.isin(['Donald Trump', 'Hillary Clinton'])]\n",
    "\n",
    "results = {}\n",
    "\n",
    "for demographic in demographic_types:\n",
    "    # Limit data to the current demographic type\n",
    "    dfdemographic_current = dfdemographic[\n",
    "        (dfdemographic['Demographic_Type_1'] == demographic) &\n",
    "        (dfdemographic['Demographic_Type_2'].isna())\n",
    "    ][[\"Electoral_Proportion\", \"Demographic_1\"]]\n",
    "    \n",
    "    dfpoll_proportions_current = dfpoll_proportions[dfpoll_proportions['Demographic_Type'] == demographic]\n",
    "    \n",
    "    # Calculate % Trump and % Clinton wins by the current demographic type\n",
    "    race_results = dfpoll_trump_clinton.groupby(demographic)['candidate'].value_counts(normalize=True).unstack().fillna(0)\n",
    "    \n",
    "    merged_df = pd.merge(dfdemographic_current, dfpoll_proportions_current, \n",
    "                         left_on='Demographic_1', \n",
    "                         right_on='Demographic'\n",
    "                        )[['Demographic','Electoral_Proportion', 'Poll_Proportion']]\n",
    "    \n",
    "    merged_df = pd.merge(merged_df, race_results.reset_index(), \n",
    "                         left_on='Demographic', \n",
    "                         right_on=demographic)\n",
    "    \n",
    "    Clinton_win = sum(merged_df['Electoral_Proportion'] * merged_df['Hillary Clinton'])\n",
    "    \n",
    "    results[demographic] = {\n",
    "        'Clinton': Clinton_win,\n",
    "        'Trump': 1-Clinton_win\n",
    "    }\n",
    "    \n",
    "\n",
    "# Print results\n",
    "print(f\"Unweighted results --- Clinton: {hillary_win:.3f}, Trump: {1-hillary_win:.3f}\")\n",
    "for demographic, values in results.items():\n",
    "    print(f\"Weighted by {demographic} --- Clinton: {values['Clinton']:.3f}, Trump: {values['Trump']:.3f}\")\n",
    "    clinton_estimates.append(values['Clinton'])"
   ]
  },
  {
   "cell_type": "markdown",
   "metadata": {},
   "source": [
    "*Trump's support increases when the polling data is weighted by party, race, age, and race, but still less than majority.*\n",
    "\n",
    "*Clinton maintains a majority vote except when weighting by party. In Part A, I observed that independent party supporters were overrepresented in the poll compared to the population.*\n",
    "\n",
    "*The varying impacts of demographic weighting show that the raw polling data might not fully represent the general population’s demographics, affirming the results in the scatterplot above.*"
   ]
  },
  {
   "cell_type": "markdown",
   "metadata": {},
   "source": [
    "### 2-dimensional joint distribution weighting"
   ]
  },
  {
   "cell_type": "markdown",
   "metadata": {},
   "source": [
    "<font color='green'>Now, for each pair of demographic types in dfdemographic, do the same -- weight the poll by that pair of demographic types, in accordance to the given joint distributions, and briefly (at most 3 sentences) describe what you observe.\n",
    "\n",
    "For example, when weighted by race and age, you'll find:\n",
    "\n",
    "Weighted by age and race: Clinton: 0.523, Trump: 0.477"
   ]
  },
  {
   "cell_type": "code",
   "execution_count": 12,
   "metadata": {
    "scrolled": true
   },
   "outputs": [
    {
     "name": "stdout",
     "output_type": "stream",
     "text": [
      "Unweighted results --- Clinton: 0.546, Trump: 0.454\n",
      "Weighted by party-gender --- Clinton: 0.503, Trump: 0.497\n",
      "Weighted by party-race --- Clinton: 0.502, Trump: 0.498\n",
      "Weighted by party-education --- Clinton: 0.493, Trump: 0.507\n",
      "Weighted by party-age --- Clinton: 0.499, Trump: 0.501\n",
      "Weighted by gender-race --- Clinton: 0.535, Trump: 0.465\n",
      "Weighted by gender-education --- Clinton: 0.547, Trump: 0.453\n",
      "Weighted by gender-age --- Clinton: 0.532, Trump: 0.468\n",
      "Weighted by race-education --- Clinton: 0.514, Trump: 0.486\n",
      "Weighted by race-age --- Clinton: 0.524, Trump: 0.476\n",
      "Weighted by education-age --- Clinton: 0.526, Trump: 0.474\n"
     ]
    }
   ],
   "source": [
    "import pandas as pd\n",
    "from itertools import combinations\n",
    "\n",
    "\n",
    "joint = {}\n",
    "\n",
    "demographic_pairs = list(combinations(demographic_types, 2))\n",
    "\n",
    "for dem1, dem2 in demographic_pairs:\n",
    "    dfdemographic_current = dfdemographic[\n",
    "        (dfdemographic['Demographic_Type_1'].isin([dem1, dem2])) &\n",
    "        (dfdemographic['Demographic_Type_2'].isin([dem1, dem2]))\n",
    "    ]\n",
    "    \n",
    "    dfpoll_current = dfpoll_trump_clinton.groupby([dem1, dem2])['candidate'].value_counts().unstack().fillna(0)\n",
    "    dfpoll_current['Polling Counts'] = dfpoll_current['Donald Trump'] + dfpoll_current['Hillary Clinton']\n",
    "    dfpoll_current['Polling Dist'] = dfpoll_current['Polling Counts'] / sum(dfpoll_current['Polling Counts'])\n",
    "    dfpoll_current['Donald Trump'] = dfpoll_current['Donald Trump'] / (dfpoll_current['Donald Trump'] + dfpoll_current['Hillary Clinton'])\n",
    "    dfpoll_current = dfpoll_current[['Donald Trump', 'Polling Dist']].reset_index()\n",
    "    \n",
    "    if (dem1 == 'race' and dem2 == 'age') or (dem1 == 'education' and dem2 == 'age'):\n",
    "        merged_df = pd.merge(dfdemographic_current, dfpoll_current, \n",
    "                             left_on=['Demographic_1', 'Demographic_2'], \n",
    "                             right_on=[dem2, dem1]\n",
    "                            ) \n",
    "    else: \n",
    "        merged_df = pd.merge(dfdemographic_current, dfpoll_current, \n",
    "                             left_on=['Demographic_1', 'Demographic_2'], \n",
    "                             right_on=[dem1, dem2]\n",
    "                            )\n",
    "    \n",
    "    Trump_win = sum(merged_df['Electoral_Proportion'] * merged_df['Donald Trump'])\n",
    "    \n",
    "    joint[f'{dem1}-{dem2}'] = {\n",
    "        'Clinton': 1 - Trump_win,\n",
    "        'Trump': Trump_win\n",
    "    }\n",
    "\n",
    "print(f\"Unweighted results --- Clinton: {hillary_win:.3f}, Trump: {1-hillary_win:.3f}\")\n",
    "for pair, values in joint.items():\n",
    "    print(f\"Weighted by {pair} --- Clinton: {values['Clinton']:.3f}, Trump: {values['Trump']:.3f}\")\n",
    "    clinton_estimates.append(values['Clinton'])\n"
   ]
  },
  {
   "cell_type": "markdown",
   "metadata": {},
   "source": [
    "*When weighed by party and other_demographics, the support between Clinton and Trump is pretty evenly split. Trump's support significantly increases when weighed by party and education.*\n",
    "\n",
    "*Clinton's chances of winning are highest in the unweighted results, which means that our polling data is heavily skewed towards people who favor her.*\n",
    "\n"
   ]
  },
  {
   "cell_type": "markdown",
   "metadata": {},
   "source": [
    "### 3) 2-dimensional marginal "
   ]
  },
  {
   "cell_type": "markdown",
   "metadata": {
    "ExecuteTime": {
     "end_time": "2021-09-01T18:25:18.040978Z",
     "start_time": "2021-09-01T18:25:18.016981Z"
    }
   },
   "source": [
    "<font color='green'>We don't always have access to joint distributions across the population -- for example, it may be hard to estimate from past exit polls (surveys done as people are leaving the polling station) what the joint distribution of education and gender is, for example. However, access to marginal distributions are often available. \n",
    "\n",
    "As discussed in class, one strategy when you don't have access to joint distributions -- only marginals -- is to _multiply_ the marginal distributions. For example, if 50% of your population is Democratic and 50% is a woman, then pretend that 50% times 50% = 25% of your population is a Democratic women. Clearly this technique is not perfect, but it is sometimes a useful heuristic. (Hint: you can use the marginal distribution provided in dfdemographic)\n",
    "\n",
    "For the following pairs of Demographic types, report the weighting results if you use the joint distributions in dfdemographic versus if you approximate the joint distribution using the marginals. Briefly (at most 3 sentences) describe what you observe.\n",
    "\n",
    "(party, gender)\n",
    "\n",
    "(race, gender)"
   ]
  },
  {
   "cell_type": "markdown",
   "metadata": {},
   "source": [
    "As an example output, here's the results for two other pairs of demographics (your results might be different due to rounding, but we do not expect the difference to be large):\n",
    "\n",
    "| Demo1   | Demo2     |    Joint |   Marginal |\n",
    "|:--------|:----------|---------:|-----------:|\n",
    "| age     | race      | 0.523431 |   0.525669 | \n",
    "| age     | education | 0.525068 |   0.523938 |  "
   ]
  },
  {
   "cell_type": "code",
   "execution_count": 13,
   "metadata": {},
   "outputs": [],
   "source": [
    "age_race_joint = joint['race-age']['Clinton']\n",
    "age_education_joint = joint['education-age']['Clinton']"
   ]
  },
  {
   "cell_type": "code",
   "execution_count": 14,
   "metadata": {},
   "outputs": [
    {
     "name": "stdout",
     "output_type": "stream",
     "text": [
      "Weighted by race and age --- Clinton: 0.52467, Trump: 0.47533\n"
     ]
    }
   ],
   "source": [
    "dfdemographic_age = dfdemographic[\n",
    "    (dfdemographic['Demographic_Type_1'].isin(['age'])) &\n",
    "    (dfdemographic['Demographic_Type_2'].isna())\n",
    "][['Electoral_Proportion', 'Demographic_Type_1', 'Demographic_1']]\n",
    "\n",
    "dfdemographic_race = dfdemographic[\n",
    "    (dfdemographic['Demographic_Type_1'].isin(['race'])) &\n",
    "    (dfdemographic['Demographic_Type_2'].isna())\n",
    "][['Electoral_Proportion', 'Demographic_Type_1', 'Demographic_1']]\n",
    "\n",
    "marginal_df = dfdemographic_age.merge(dfdemographic_race, how='cross')\n",
    "marginal_df['Marginal Distribution'] = marginal_df.Electoral_Proportion_x*marginal_df.Electoral_Proportion_y\n",
    "marginal_df = marginal_df[[\"Demographic_1_x\", \"Demographic_1_y\", \"Marginal Distribution\"]]\n",
    "\n",
    "# % Trump and % Clinton wins by race and age\n",
    "dfpoll_current = dfpoll_trump_clinton.groupby(['race', 'age'])['candidate'].value_counts().unstack().fillna(0)\n",
    "dfpoll_current['Polling Counts'] = dfpoll_current['Donald Trump'] + dfpoll_current['Hillary Clinton']\n",
    "dfpoll_current['Polling Dist'] = dfpoll_current['Polling Counts']/sum(dfpoll_current['Polling Counts'])\n",
    "dfpoll_current['Donald Trump'] = dfpoll_current['Donald Trump'] / (dfpoll_current['Donald Trump'] + dfpoll_current['Hillary Clinton'])\n",
    "dfpoll_current = dfpoll_current[['Donald Trump', 'Polling Dist']].reset_index()\n",
    "\n",
    "\n",
    "merged_df = pd.merge(marginal_df, dfpoll_current, \n",
    "                     left_on=['Demographic_1_x', 'Demographic_1_y'], \n",
    "                     right_on=['age', 'race']\n",
    "                    )\n",
    "\n",
    "Trump_win = sum(merged_df['Marginal Distribution']*merged_df['Donald Trump'])\n",
    "        \n",
    "print(f\"Weighted by race and age --- Clinton: {1-Trump_win:.5f}, Trump: {Trump_win:.5f}\")\n",
    "\n",
    "age_race_marginal = 1-Trump_win\n",
    "clinton_estimates.append(1-Trump_win)"
   ]
  },
  {
   "cell_type": "code",
   "execution_count": 15,
   "metadata": {},
   "outputs": [
    {
     "name": "stdout",
     "output_type": "stream",
     "text": [
      "Weighted by education and age --- Clinton: 0.52394, Trump: 0.47606\n"
     ]
    }
   ],
   "source": [
    "dfdemographic_education = dfdemographic[\n",
    "    (dfdemographic['Demographic_Type_1'].isin(['education'])) &\n",
    "    (dfdemographic['Demographic_Type_2'].isna())\n",
    "][['Electoral_Proportion', 'Demographic_Type_1', 'Demographic_1']]\n",
    "\n",
    "marginal_df = dfdemographic_age.merge(dfdemographic_education, how='cross')\n",
    "marginal_df['Marginal Distribution'] = marginal_df.Electoral_Proportion_x*marginal_df.Electoral_Proportion_y\n",
    "marginal_df = marginal_df[[\"Demographic_1_x\", \"Demographic_1_y\", \"Marginal Distribution\"]]\n",
    "\n",
    "# % Trump and % Clinton wins by education and age\n",
    "dfpoll_current = dfpoll_trump_clinton.groupby(['education', 'age'])['candidate'].value_counts().unstack().fillna(0)\n",
    "dfpoll_current['Polling Counts'] = dfpoll_current['Donald Trump'] + dfpoll_current['Hillary Clinton']\n",
    "dfpoll_current['Polling Dist'] = dfpoll_current['Polling Counts']/sum(dfpoll_current['Polling Counts'])\n",
    "dfpoll_current['Donald Trump'] = dfpoll_current['Donald Trump'] / (dfpoll_current['Donald Trump'] + dfpoll_current['Hillary Clinton'])\n",
    "dfpoll_current = dfpoll_current[['Donald Trump', 'Polling Dist']].reset_index()\n",
    "\n",
    "\n",
    "merged_df = pd.merge(marginal_df, dfpoll_current, \n",
    "                     left_on=['Demographic_1_x', 'Demographic_1_y'], \n",
    "                     right_on=['age', 'education']\n",
    "                    )\n",
    "\n",
    "Trump_win = sum(merged_df['Marginal Distribution']*merged_df['Donald Trump'])\n",
    "        \n",
    "print(f\"Weighted by education and age --- Clinton: {1-Trump_win:.5f}, Trump: {Trump_win:.5f}\")\n",
    "\n",
    "age_education_marginal = 1-Trump_win\n",
    "clinton_estimates.append(1-Trump_win)"
   ]
  },
  {
   "cell_type": "code",
   "execution_count": 16,
   "metadata": {
    "scrolled": true
   },
   "outputs": [
    {
     "data": {
      "text/html": [
       "<div>\n",
       "<style scoped>\n",
       "    .dataframe tbody tr th:only-of-type {\n",
       "        vertical-align: middle;\n",
       "    }\n",
       "\n",
       "    .dataframe tbody tr th {\n",
       "        vertical-align: top;\n",
       "    }\n",
       "\n",
       "    .dataframe thead th {\n",
       "        text-align: right;\n",
       "    }\n",
       "</style>\n",
       "<table border=\"1\" class=\"dataframe\">\n",
       "  <thead>\n",
       "    <tr style=\"text-align: right;\">\n",
       "      <th></th>\n",
       "      <th>Demo1</th>\n",
       "      <th>Demo2</th>\n",
       "      <th>Joint</th>\n",
       "      <th>Marginal</th>\n",
       "    </tr>\n",
       "  </thead>\n",
       "  <tbody>\n",
       "    <tr>\n",
       "      <th>0</th>\n",
       "      <td>age</td>\n",
       "      <td>race</td>\n",
       "      <td>0.524431</td>\n",
       "      <td>0.524669</td>\n",
       "    </tr>\n",
       "    <tr>\n",
       "      <th>1</th>\n",
       "      <td>age</td>\n",
       "      <td>education</td>\n",
       "      <td>0.526068</td>\n",
       "      <td>0.523938</td>\n",
       "    </tr>\n",
       "  </tbody>\n",
       "</table>\n",
       "</div>"
      ],
      "text/plain": [
       "  Demo1      Demo2     Joint  Marginal\n",
       "0   age       race  0.524431  0.524669\n",
       "1   age  education  0.526068  0.523938"
      ]
     },
     "execution_count": 16,
     "metadata": {},
     "output_type": "execute_result"
    }
   ],
   "source": [
    "data = {\n",
    "    \"Demo1\": [\"age\", \"age\"],\n",
    "    \"Demo2\": [\"race\", \"education\"],\n",
    "    \"Joint\": [age_race_joint, age_education_joint],\n",
    "    \"Marginal\" : [age_race_marginal, age_education_marginal]\n",
    "}\n",
    "joint_marginal = pd.DataFrame(data)\n",
    "joint_marginal"
   ]
  },
  {
   "cell_type": "markdown",
   "metadata": {},
   "source": [
    "*There are some interactions between these two variables, resulting in different numbers across the two approaches. Age and education have interaction effects that suggest Clinton has a slightly higher probability of winning (+0.2%) compared to multiplying the marginal distributions.* "
   ]
  },
  {
   "cell_type": "markdown",
   "metadata": {},
   "source": [
    "### 4) Bonus points (up to 2 points): Implement a \"cheap\" version of the MRP technique mentioned in class.\n",
    "\n",
    "<font color='green'> The above techniques use the mean answer among people who share a demographic as the estimate for that demographic. But that wastes information _across_ demographics. For example, maybe people who only have \"Some College\" are similar enough to people who have \"High School\" as to provide some useful information. \n",
    "\n",
    "First, do the following: use a logistic regression (or your favorite prediction tool) to predict candidate choice, using the demographics. You might want to convert some demographics (like education) to ordered numeric (e.g., 1, 2, 3) as opposed to using discrete categories. \n",
    "\n",
    "Here, you will earn partial bonus points by just reporting the predictions and comparing them to the means of each covariate group in the raw polling data. Give a scatter-plot, where each point is one combination of full demographics (age, gender, party, race/ethnicity, education), the X axis is the raw polling average for that combination, and the Y axis is your regression prediction for that combination.   \n",
    "\n",
    "Then, once you have predictions for each set of covariates, \"post-stratify\" to get a single population estimate by plugging them into the above weighting techniques, where you use the predictions instead of the raw averages in that cell. Report the resulting estimates if you do the 2-dimensional joint weighting (on every pair)."
   ]
  },
  {
   "cell_type": "code",
   "execution_count": 75,
   "metadata": {
    "scrolled": true
   },
   "outputs": [
    {
     "name": "stdout",
     "output_type": "stream",
     "text": [
      "Accuracy: 0.76\n",
      "Classification Report:\n",
      "                 precision    recall  f1-score   support\n",
      "\n",
      "   Donald Trump       0.77      0.69      0.73        68\n",
      "Hillary Clinton       0.75      0.82      0.78        76\n",
      "\n",
      "       accuracy                           0.76       144\n",
      "      macro avg       0.76      0.75      0.75       144\n",
      "   weighted avg       0.76      0.76      0.76       144\n",
      "\n"
     ]
    }
   ],
   "source": [
    "from sklearn.model_selection import train_test_split\n",
    "from sklearn.linear_model import LogisticRegression\n",
    "from sklearn.metrics import accuracy_score, confusion_matrix, classification_report\n",
    "\n",
    "X = dfpoll_trump_clinton[['age', 'gender', 'party', 'race', 'education']]  # Demographic features\n",
    "X_original = X.copy()\n",
    "y = dfpoll_trump_clinton['candidate']\n",
    "\n",
    "dictionary = {'age': {'18-29': 1, '30-44':2, '45-64':3, '65+':4},\n",
    "              'gender': {'Female': 1, 'Male': 2},\n",
    "              'party': {'Independent': 1, 'Republican':2, 'Democrat':3, 'Refused':4},\n",
    "              'race': {'White': 1, 'Hispanic':2, 'Black':3, 'Other':4, 'Refused':5},\n",
    "              'education': {'College': 1, 'High School':2, 'Some College': 3, 'Refused': 4}}\n",
    "\n",
    "X.loc[:,'age'] = X['age'].map(dictionary['age'])\n",
    "X.loc[:,'gender'] = X['gender'].map(dictionary['gender'])\n",
    "X.loc[:,'party'] = X['party'].map(dictionary['party'])\n",
    "X.loc[:,'race'] = X['race'].map(dictionary['race'])\n",
    "X.loc[:,'education'] = X['education'].map(dictionary['education'])\n",
    "\n",
    "X_train, X_test, y_train, y_test = train_test_split(X, y, test_size=0.2, random_state=42)\n",
    "\n",
    "log_reg = LogisticRegression()\n",
    "\n",
    "\n",
    "log_reg.fit(X_train, y_train)\n",
    "\n",
    "\n",
    "y_pred = log_reg.predict(X_test)\n",
    "\n",
    "# Step 6: Evaluate the model\n",
    "accuracy = accuracy_score(y_test, y_pred)\n",
    "class_report = classification_report(y_test, y_pred)\n",
    "print(f'Accuracy: {accuracy:.2f}')\n",
    "print(f'Classification Report:\\n{class_report}')\n",
    "\n",
    "\n",
    "#Model for all of X (no train/test split)\n",
    "model = LogisticRegression()\n",
    "model.fit(X, y)\n",
    "\n",
    "X_original['predictions'] = model.predict(X) #Probability of choosing Trump"
   ]
  },
  {
   "cell_type": "code",
   "execution_count": null,
   "metadata": {},
   "outputs": [],
   "source": [
    "import matplotlib.pyplot as plt\n",
    "\n",
    "\n",
    "plt.scatter(merged_df['%Trump'], merged_df['predictions'])\n",
    "plt.xlabel('Raw Polling Average')\n",
    "plt.ylabel('Regression Prediction')\n",
    "plt.title('Comparison of Raw Polling Average vs Regression Prediction')\n",
    "plt.show()\n"
   ]
  },
  {
   "cell_type": "markdown",
   "metadata": {},
   "source": [
    "### 5) Bonus points (up to 2 points): Implement full \"raking\" using all the demographic covariates, i.e., match all the marginals without assuming independence, as opposed to just one or two marginal distributions.\n",
    "\n",
    "<font color='green'> Hint: at the heart of raking is calculating a weight for each survey respondent, so that the weights, when summed up, matches the population on desired marginals as much as possible. \n",
    "\n",
    "For example, suppose we have a survey with two respondents, A likes chocolate and B hates chocolate. We know that in the population, 80\\% of people like chocolate (the number is made up). So in a representative sample with 2 respondents, we would expect to see 1.6 respondents who like chocolate. Thus, one possible thing to do is we assign A with weight 1.6 and B with weight 0.4, and then use these weights to weigh their answers to the question we care about.\n",
    "\n",
    "Of course, when the number of respondents and the number of demographic dimensions that we want to match get larger, finding the weights itself becomes harder. There are mainly two ways to do this. The first is through an iterative approach known as Iterative Proportional Fitting (IPF). IPF iterates through each demographic variable at a time, and adjusts the weights of all respondents through post stratification. IPF is easier to implement by hand by just following the instructions. The second approach is known as generalized raking, which is done through solving an optimization problem, and proposed by [Deville, J. C., Särndal, C. E., & Sautory, O. (1993)](https://www.tandfonline.com/doi/abs/10.1080/01621459.1993.10476369). This approach attempts to solve one undesirable outcome of IPF that the resulting weights may be unbalanced, which leads to higher variance in the final estimate. [This blog post](https://dev.to/potloc/generalized-raking-for-survey-weighting-2d1d) gives a nice introduction to generalized raking, while providing a code snippet for implementing it in Python (you will have to make suitable changes, of course.)"
   ]
  },
  {
   "cell_type": "code",
   "execution_count": null,
   "metadata": {},
   "outputs": [],
   "source": []
  },
  {
   "cell_type": "markdown",
   "metadata": {},
   "source": [
    "## Part C: Uncertainty analysis, choices, and discussion"
   ]
  },
  {
   "cell_type": "markdown",
   "metadata": {},
   "source": [
    "### 1) Education weighting analysis and \"refused\" answers"
   ]
  },
  {
   "cell_type": "markdown",
   "metadata": {},
   "source": [
    "<font color='green'> i. In Part B, you should notice a discrepancy from what we said in class and the data -- weighting by education does _not_ seem to help much in reducing the polling average from being pro-Clinton.\n",
    "\n",
    "Here, we'll try to dig into the data to see why the methods we tried above might not be perfect, and what data you would want (such as demographic joint distribution) to do better. \n",
    "\n",
    "First, aggregate (using the groupby function) the poll results by education. Second, aggregate by education and some of the other covariates (for example, education and race, or education and party). Discuss in 4 sentences or less."
   ]
  },
  {
   "cell_type": "code",
   "execution_count": null,
   "metadata": {},
   "outputs": [],
   "source": [
    "dfpoll_trump_clinton.groupby(\"education\")[\"candidate\"].value_counts(normalize=True).unstack().fillna(0)"
   ]
  },
  {
   "cell_type": "code",
   "execution_count": null,
   "metadata": {},
   "outputs": [],
   "source": [
    "dfpoll_trump_clinton.groupby([\"education\", \"age\"])[\"candidate\"].value_counts(normalize=True).unstack().fillna(0)"
   ]
  },
  {
   "cell_type": "code",
   "execution_count": null,
   "metadata": {},
   "outputs": [],
   "source": [
    "dfpoll_trump_clinton.groupby([\"education\", \"party\"])[\"candidate\"].value_counts(normalize=True).unstack().fillna(0)"
   ]
  },
  {
   "cell_type": "raw",
   "metadata": {},
   "source": [
    "From univariate and 2-dimensional joint distribution weighting conducted above:\n",
    "\n",
    "\n",
    "Unweighted results --- Clinton: 0.546, Trump: 0.454\n",
    "\n",
    "Weighted by education --- Clinton: 0.544, Trump: 0.456\n",
    "\n",
    "Weighted by party-education --- Clinton: 0.493, Trump: 0.507\n",
    "\n",
    "Weighted by gender-education --- Clinton: 0.547, Trump: 0.453\n",
    "\n",
    "Weighted by race-education --- Clinton: 0.514, Trump: 0.486\n",
    "\n",
    "Weighted by education-age --- Clinton: 0.526, Trump: 0.474"
   ]
  },
  {
   "cell_type": "markdown",
   "metadata": {},
   "source": [
    "*When weighting by education alone, Trump's chances of winning increases marginally. However, once we do a 2-dimensional joint distribution weighting, Trump's odds increase considerably with weight by party-education being the highest. The combined weighting by party and education indicates that certain educational and party combinations are more predictive of Trump’s support.*"
   ]
  },
  {
   "cell_type": "markdown",
   "metadata": {},
   "source": [
    "<font color='green'> ii. You'll notice that there are some responses with \"refused,\" and that those people in particular are Trump-leaning. Furthermore, there are likely many people who refused to answer the poll at all, who do not show up in the data. The weighting techniques we used above would ignore these people. How would you adjust your procedures/estimates above to take them into account? Answer in at most 3 sentences."
   ]
  },
  {
   "cell_type": "markdown",
   "metadata": {},
   "source": [
    "*You can throw the refused candidates into the other education groups to see how this alters Trump's chances of winning, similar to a sensitivity analysis. This can help quantify the potential effects of including the 'refused' responses on Trump's probability of winning Florida.*"
   ]
  },
  {
   "cell_type": "markdown",
   "metadata": {},
   "source": [
    "<font color='green'> None of the above techniques deal with selection biases/non-response on _un-measured_ covariates. Do you think that may be an important concern in this dataset? Why or why not? Respond in 3 or fewer sentences."
   ]
  },
  {
   "cell_type": "markdown",
   "metadata": {},
   "source": [
    "*If certain groups are underrepresented or their responses are missing, it could affect the validity of the findings and limit the generalizability of the results. We saw this play out in the 2016 election cycle, where pollsters predicted Clinton would win Florida with a narrow lead. Trump won, albiet it was one of the swing states. I think it was jarring and perplexing to see most media channels grossly miscalculate 2016 elections, and people seem to loose faith in such institutions.*"
   ]
  },
  {
   "cell_type": "markdown",
   "metadata": {},
   "source": [
    "### 2) Final estimates"
   ]
  },
  {
   "cell_type": "markdown",
   "metadata": {},
   "source": [
    "<font color='green'> Throughout this homework, you made many estimates of the same quantity -- the fraction of people who will vote for Clinton in Florida. Below, plot a histogram of all your estimates."
   ]
  },
  {
   "cell_type": "code",
   "execution_count": null,
   "metadata": {},
   "outputs": [],
   "source": [
    "df = pd.DataFrame(clinton_estimates, columns=['Clinton_Estimate'])\n",
    "\n",
    "# Plotting the histogram\n",
    "plt.figure(figsize=(8, 6))\n",
    "plt.hist(df['Clinton_Estimate'], bins=6, edgecolor='black', color='skyblue')\n",
    "plt.title('Histogram of Clinton Vote Estimates in Florida')\n",
    "plt.xlabel('Clinton Vote Fraction Estimate')\n",
    "plt.ylabel('Frequency')\n",
    "\n",
    "# Show the plot\n",
    "plt.show()"
   ]
  },
  {
   "cell_type": "markdown",
   "metadata": {},
   "source": [
    "<font color='green'> Given all your above analysis, if you were a pollster what would you report as your single estimate? "
   ]
  },
  {
   "cell_type": "code",
   "execution_count": null,
   "metadata": {
    "scrolled": true
   },
   "outputs": [],
   "source": [
    "print(\"clinton_estimates: \" ,np.round(clinton_estimates, 3))\n",
    "\n",
    "from scipy import stats\n",
    "\n",
    "mean = np.mean(clinton_estimates)\n",
    "std_dev = np.std(clinton_estimates) \n",
    "\n",
    "n = len(dfpoll)\n",
    "\n",
    "confidence_level = 0.95\n",
    "z_score = stats.norm.ppf((1 + confidence_level) / 2)  # For a 95% confidence interval\n",
    "\n",
    "sem = std_dev / np.sqrt(n)\n",
    "\n",
    "margin_of_error = z_score * sem\n",
    "\n",
    "print(f\"Mean: {round(mean*100, 4)}\")\n",
    "print(f\"Margin of Error: {round(margin_of_error*100, 4)}\")"
   ]
  },
  {
   "cell_type": "markdown",
   "metadata": {},
   "source": [
    "<font color='green'> Justify your choice, in at most 3 sentences"
   ]
  },
  {
   "cell_type": "markdown",
   "metadata": {},
   "source": [
    "*I know this is a trick question—one might report the mean of the various approaches used to calculate Clinton's probability of winning, which is 52.4%. The margin of error is ±0.12%, which is relatively small. However, this does not account for biases like differential non-response. While I am cautious, if I had to choose a number, it would be 52.4%.*"
   ]
  },
  {
   "cell_type": "markdown",
   "metadata": {},
   "source": [
    "<font color='green'> Though we did not discuss how to calculate margin of error or standard errors with weighting in this course, what would you say if someone asked you how confident you are in your estimate? You may either qualitatively answer, or try to come up with a margin of error.  "
   ]
  },
  {
   "cell_type": "markdown",
   "metadata": {},
   "source": [
    "*I calculated the margin of error above and discussed its meaning. Clinton's probability of winning is slightly above 50%, but not by a large margin.*\n",
    "\n",
    "*Based on this polling data and the various weighting techniques, we can be 95% confident that the true average probability of Clinton winning lies between 52.3% and 52.5%. This does not consider the effects of biases and differential non-responses.*"
   ]
  }
 ],
 "metadata": {
  "kernelspec": {
   "display_name": "Python 3 (ipykernel)",
   "language": "python",
   "name": "python3"
  },
  "language_info": {
   "codemirror_mode": {
    "name": "ipython",
    "version": 3
   },
   "file_extension": ".py",
   "mimetype": "text/x-python",
   "name": "python",
   "nbconvert_exporter": "python",
   "pygments_lexer": "ipython3",
   "version": "3.11.3"
  },
  "varInspector": {
   "cols": {
    "lenName": 16,
    "lenType": 16,
    "lenVar": 40
   },
   "kernels_config": {
    "python": {
     "delete_cmd_postfix": "",
     "delete_cmd_prefix": "del ",
     "library": "var_list.py",
     "varRefreshCmd": "print(var_dic_list())"
    },
    "r": {
     "delete_cmd_postfix": ") ",
     "delete_cmd_prefix": "rm(",
     "library": "var_list.r",
     "varRefreshCmd": "cat(var_dic_list()) "
    }
   },
   "types_to_exclude": [
    "module",
    "function",
    "builtin_function_or_method",
    "instance",
    "_Feature"
   ],
   "window_display": false
  },
  "vscode": {
   "interpreter": {
    "hash": "08c7ecce80b69c620dde7c8919fa94d3baa2217d665b4d1ca74ed6f93561aaf3"
   }
  }
 },
 "nbformat": 4,
 "nbformat_minor": 2
}
